{
 "cells": [
  {
   "cell_type": "code",
   "execution_count": 1,
   "metadata": {},
   "outputs": [],
   "source": [
    "import pandas as pd\n",
    "from os import listdir\n",
    "import json\n",
    "\n",
    "import numpy as np\n",
    "from sklearn.preprocessing import LabelEncoder\n",
    "from sklearn.neural_network import MLPClassifier\n",
    "from sklearn.metrics import recall_score, precision_score, f1_score, accuracy_score\n",
    "\n",
    "from nltk.tokenize import word_tokenize\n",
    "\n",
    "import fasttext"
   ]
  },
  {
   "cell_type": "code",
   "execution_count": 7,
   "metadata": {},
   "outputs": [
    {
     "name": "stderr",
     "output_type": "stream",
     "text": [
      "[nltk_data] Downloading package punkt to\n",
      "[nltk_data]     /Users/luungoc2005/nltk_data...\n",
      "[nltk_data]   Unzipping tokenizers/punkt.zip.\n"
     ]
    },
    {
     "data": {
      "text/plain": [
       "True"
      ]
     },
     "execution_count": 7,
     "metadata": {},
     "output_type": "execute_result"
    }
   ],
   "source": [
    "import nltk\n",
    "nltk.download('punkt')"
   ]
  },
  {
   "cell_type": "code",
   "execution_count": 2,
   "metadata": {},
   "outputs": [
    {
     "name": "stderr",
     "output_type": "stream",
     "text": [
      "\n"
     ]
    }
   ],
   "source": [
    "model = fasttext.load_model('data/cc.en.300.bin')"
   ]
  },
  {
   "cell_type": "code",
   "execution_count": 3,
   "metadata": {},
   "outputs": [],
   "source": [
    "\n",
    "def tokenize_text_list(input_list):\n",
    "    text_list = [word_tokenize(' '.join(text.split())) for text in input_list]\n",
    "    return text_list\n"
   ]
  },
  {
   "cell_type": "code",
   "execution_count": 4,
   "metadata": {},
   "outputs": [],
   "source": [
    "def get_sentence_vectors(text_list):\n",
    "    vectors = [\n",
    "        np.average(\n",
    "            np.array([model.get_word_vector(word) for word in sentence])\n",
    "        , axis=0)\n",
    "        for sentence in text_list\n",
    "        if len(sentence) > 0\n",
    "    ]\n",
    "    return vectors"
   ]
  },
  {
   "cell_type": "code",
   "execution_count": 16,
   "metadata": {},
   "outputs": [
    {
     "name": "stdout",
     "output_type": "stream",
     "text": [
      "Iteration 1, loss = 7.14182879\n",
      "Iteration 2, loss = 6.79876860\n",
      "Iteration 3, loss = 6.50328011\n",
      "Iteration 4, loss = 6.18189136\n",
      "Iteration 5, loss = 5.86140997\n",
      "Iteration 6, loss = 5.56002529\n",
      "Iteration 7, loss = 5.28511496\n",
      "Iteration 8, loss = 5.03376433\n",
      "Iteration 9, loss = 4.80442449\n",
      "Iteration 10, loss = 4.58962182\n",
      "Iteration 11, loss = 4.39183168\n",
      "Iteration 12, loss = 4.20726391\n",
      "Iteration 13, loss = 4.03151946\n",
      "Iteration 14, loss = 3.86788594\n",
      "Iteration 15, loss = 3.71592058\n",
      "Iteration 16, loss = 3.57443422\n",
      "Iteration 17, loss = 3.43849237\n",
      "Iteration 18, loss = 3.30976726\n",
      "Iteration 19, loss = 3.19442013\n",
      "Iteration 20, loss = 3.08565398\n",
      "Iteration 21, loss = 2.98549509\n",
      "Iteration 22, loss = 2.88924336\n",
      "Iteration 23, loss = 2.79792789\n",
      "Iteration 24, loss = 2.71630624\n",
      "Iteration 25, loss = 2.63498838\n",
      "Iteration 26, loss = 2.56082108\n",
      "Iteration 27, loss = 2.48897167\n",
      "Iteration 28, loss = 2.42227378\n",
      "Iteration 29, loss = 2.35537274\n",
      "Iteration 30, loss = 2.29452072\n",
      "Iteration 31, loss = 2.23759425\n",
      "Iteration 32, loss = 2.18160006\n",
      "Iteration 33, loss = 2.13097046\n",
      "Iteration 34, loss = 2.07690837\n",
      "Iteration 35, loss = 2.02921006\n",
      "Iteration 36, loss = 1.98218224\n",
      "Iteration 37, loss = 1.93983303\n",
      "Iteration 38, loss = 1.89634143\n",
      "Iteration 39, loss = 1.85580693\n",
      "Iteration 40, loss = 1.81411466\n",
      "Iteration 41, loss = 1.77574169\n",
      "Iteration 42, loss = 1.74038983\n",
      "Iteration 43, loss = 1.70335092\n",
      "Iteration 44, loss = 1.66830016\n",
      "Iteration 45, loss = 1.63922371\n",
      "Iteration 46, loss = 1.60478433\n",
      "Iteration 47, loss = 1.57519542\n",
      "Iteration 48, loss = 1.54230079\n",
      "Iteration 49, loss = 1.51505469\n",
      "Iteration 50, loss = 1.48609745\n",
      "Iteration 51, loss = 1.46116326\n",
      "Iteration 52, loss = 1.43437123\n",
      "Iteration 53, loss = 1.40953620\n",
      "Iteration 54, loss = 1.38188234\n",
      "Iteration 55, loss = 1.35911732\n",
      "Iteration 56, loss = 1.33713122\n",
      "Iteration 57, loss = 1.31429722\n",
      "Iteration 58, loss = 1.29376271\n",
      "Iteration 59, loss = 1.27085548\n",
      "Iteration 60, loss = 1.25041553\n",
      "Iteration 61, loss = 1.22888374\n",
      "Iteration 62, loss = 1.21036471\n",
      "Iteration 63, loss = 1.19287659\n",
      "Iteration 64, loss = 1.17159370\n",
      "Iteration 65, loss = 1.15776371\n",
      "Iteration 66, loss = 1.13802449\n",
      "Iteration 67, loss = 1.12249972\n",
      "Iteration 68, loss = 1.10248626\n",
      "Iteration 69, loss = 1.08902565\n",
      "Iteration 70, loss = 1.07263523\n",
      "Iteration 71, loss = 1.05699968\n",
      "Iteration 72, loss = 1.04264599\n",
      "Iteration 73, loss = 1.02734131\n",
      "Iteration 74, loss = 1.00980824\n",
      "Iteration 75, loss = 0.99799611\n",
      "Iteration 76, loss = 0.98351185\n",
      "Iteration 77, loss = 0.96943763\n",
      "Iteration 78, loss = 0.95855681\n",
      "Iteration 79, loss = 0.94432457\n",
      "Iteration 80, loss = 0.93062149\n",
      "Iteration 81, loss = 0.91987718\n",
      "Iteration 82, loss = 0.90887484\n",
      "Iteration 83, loss = 0.89368908\n",
      "Iteration 84, loss = 0.88543635\n",
      "Iteration 85, loss = 0.87420806\n",
      "Iteration 86, loss = 0.86236478\n",
      "Iteration 87, loss = 0.85166085\n",
      "Iteration 88, loss = 0.84013082\n",
      "Iteration 89, loss = 0.83060414\n",
      "Iteration 90, loss = 0.82167407\n",
      "Iteration 91, loss = 0.81249019\n",
      "Iteration 92, loss = 0.80117904\n",
      "Iteration 93, loss = 0.79195155\n",
      "Iteration 94, loss = 0.78413061\n",
      "Iteration 95, loss = 0.77199905\n",
      "Iteration 96, loss = 0.76439593\n",
      "Iteration 97, loss = 0.75574046\n",
      "Iteration 98, loss = 0.74716663\n",
      "Iteration 99, loss = 0.73716050\n",
      "Iteration 100, loss = 0.73212697\n"
     ]
    },
    {
     "name": "stderr",
     "output_type": "stream",
     "text": [
      "/Users/luungoc2005/miniconda3/envs/vn-nlp/lib/python3.6/site-packages/sklearn/neural_network/multilayer_perceptron.py:566: ConvergenceWarning: Stochastic Optimizer: Maximum iterations (100) reached and the optimization hasn't converged yet.\n",
      "  % self.max_iter, ConvergenceWarning)\n"
     ]
    }
   ],
   "source": [
    "with open('data/kc_data.json', 'r') as input_file:\n",
    "    training_file = json.load(input_file)\n",
    "\n",
    "# extract raw intents and labels from file. Needs upgrade\n",
    "raw_examples = []\n",
    "raw_labels = []\n",
    "\n",
    "for intent in training_file:\n",
    "    for usersay in intent['usersays']:\n",
    "        raw_labels.append(intent['name'])\n",
    "        raw_examples.append(usersay)\n",
    "\n",
    "raw_exampes_tokens = tokenize_text_list(raw_examples)\n",
    "\n",
    "le = LabelEncoder()\n",
    "X_train = np.array(get_sentence_vectors(raw_exampes_tokens))\n",
    "y_train = np.array(le.fit_transform(raw_labels))\n",
    "\n",
    "clf = MLPClassifier(\n",
    "    hidden_layer_sizes=(50,), \n",
    "    random_state=1,\n",
    "    batch_size=min(64, len(X_train)),\n",
    "    max_iter=100,\n",
    "    verbose=True)\n",
    "\n",
    "clf.fit(X_train, y_train)\n",
    "\n",
    "preds = clf.predict(X_train)\n"
   ]
  },
  {
   "cell_type": "code",
   "execution_count": 17,
   "metadata": {},
   "outputs": [
    {
     "name": "stdout",
     "output_type": "stream",
     "text": [
      "Accuracy: 0.8635920436817472\n",
      "F1: 0.8614763638732915\n"
     ]
    },
    {
     "name": "stderr",
     "output_type": "stream",
     "text": [
      "/Users/luungoc2005/miniconda3/envs/vn-nlp/lib/python3.6/site-packages/sklearn/metrics/classification.py:1437: UndefinedMetricWarning: F-score is ill-defined and being set to 0.0 in labels with no predicted samples.\n",
      "  'precision', 'predicted', average, warn_for)\n"
     ]
    }
   ],
   "source": [
    "print(f'Accuracy: {accuracy_score(y_train, preds)}')\n",
    "print(f'F1: {f1_score(y_train, preds, average=\"weighted\")}')\n",
    "# print(f'Accuracy: {accuracy_score(y_train, preds)}')"
   ]
  },
  {
   "cell_type": "code",
   "execution_count": null,
   "metadata": {},
   "outputs": [],
   "source": []
  }
 ],
 "metadata": {
  "kernelspec": {
   "display_name": "Python 3",
   "language": "python",
   "name": "python3"
  },
  "language_info": {
   "codemirror_mode": {
    "name": "ipython",
    "version": 3
   },
   "file_extension": ".py",
   "mimetype": "text/x-python",
   "name": "python",
   "nbconvert_exporter": "python",
   "pygments_lexer": "ipython3",
   "version": "3.6.9"
  }
 },
 "nbformat": 4,
 "nbformat_minor": 2
}
