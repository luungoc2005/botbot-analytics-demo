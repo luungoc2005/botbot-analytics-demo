{
 "nbformat": 4,
 "nbformat_minor": 2,
 "metadata": {
  "language_info": {
   "name": "python",
   "codemirror_mode": {
    "name": "ipython",
    "version": 3
   },
   "version": "3.7.4-final"
  },
  "orig_nbformat": 2,
  "file_extension": ".py",
  "mimetype": "text/x-python",
  "name": "python",
  "npconvert_exporter": "python",
  "pygments_lexer": "ipython3",
  "version": 3,
  "kernelspec": {
   "name": "python37464bitaiconda538f2ac4937d43dca78f56befa819495",
   "display_name": "Python 3.7.4 64-bit ('ai': conda)"
  }
 },
 "cells": [
  {
   "cell_type": "code",
   "execution_count": 1,
   "metadata": {},
   "outputs": [],
   "source": [
    "import torch"
   ]
  },
  {
   "cell_type": "code",
   "execution_count": 2,
   "metadata": {},
   "outputs": [
    {
     "name": "stdout",
     "output_type": "stream",
     "text": "tensor([ 0,  1,  2,  3,  4,  5,  6,  7,  8,  9, 10, 11, 12, 13, 14, 15, 16, 17,\n        18, 19])\n"
    }
   ],
   "source": [
    "vocab = torch.arange(20)\n",
    "print(vocab)"
   ]
  },
  {
   "cell_type": "code",
   "execution_count": 20,
   "metadata": {},
   "outputs": [
    {
     "name": "stdout",
     "output_type": "stream",
     "text": "tensor([False,  True, False, False, False, False,  True, False, False, False,\n        False, False,  True, False, False, False, False,  True, False, False])\n"
    }
   ],
   "source": [
    "words_starting_mask = torch.rand(*vocab.size()) < .3\n",
    "# words_starting_mask = words_starting_mask\n",
    "print(words_starting_mask)"
   ]
  },
  {
   "cell_type": "code",
   "execution_count": 21,
   "metadata": {},
   "outputs": [
    {
     "name": "stdout",
     "output_type": "stream",
     "text": "tensor([[ 4, 19, 13,  6, 12, 13,  2,  1, 16, 18, 11, 19,  3,  8, 14],\n        [ 2,  2, 12,  1,  6, 13, 18,  3,  7, 13,  6, 13,  4,  4,  2],\n        [12, 18,  1,  7, 19,  3, 18,  7, 12,  5, 17, 14,  2,  3,  9]])\n"
    }
   ],
   "source": [
    "sent_batch = torch.randint(vocab.size(0), (3, 15))\n",
    "print(sent_batch)"
   ]
  },
  {
   "cell_type": "code",
   "execution_count": 40,
   "metadata": {},
   "outputs": [
    {
     "name": "stdout",
     "output_type": "stream",
     "text": "tensor([[0, 0, 1, 1, 1, 1, 0, 1, 0, 0, 1, 1, 1, 0, 0],\n        [1, 0, 0, 0, 0, 1, 1, 1, 1, 0, 1, 0, 0, 0, 0],\n        [0, 0, 1, 0, 0, 1, 0, 1, 0, 0, 0, 0, 1, 0, 1]])\n"
    }
   ],
   "source": [
    "mask_positions = (torch.rand(*sent_batch.size()) < .45)\n",
    "print(mask_positions.long())"
   ]
  },
  {
   "cell_type": "code",
   "execution_count": 41,
   "metadata": {},
   "outputs": [],
   "source": [
    "word_begins_mask = words_starting_mask.expand(sent_batch.size(0), -1).gather(1, sent_batch)"
   ]
  },
  {
   "cell_type": "code",
   "execution_count": 42,
   "metadata": {},
   "outputs": [
    {
     "data": {
      "text/plain": "tensor([[False, False, False,  True,  True, False, False,  True, False, False,\n         False, False, False, False, False],\n        [False, False,  True,  True,  True, False, False, False, False, False,\n          True, False, False, False, False],\n        [ True, False,  True, False, False, False, False, False,  True, False,\n          True, False, False, False, False]])"
     },
     "execution_count": 42,
     "metadata": {},
     "output_type": "execute_result"
    }
   ],
   "source": [
    "word_begins_mask"
   ]
  },
  {
   "cell_type": "code",
   "execution_count": 43,
   "metadata": {},
   "outputs": [],
   "source": [
    "word_begins_mask = word_begins_mask & mask_positions"
   ]
  },
  {
   "cell_type": "code",
   "execution_count": 44,
   "metadata": {},
   "outputs": [
    {
     "data": {
      "text/plain": "tensor([[False, False, False,  True,  True, False, False,  True, False, False,\n         False, False, False, False, False],\n        [False, False, False, False, False, False, False, False, False, False,\n          True, False, False, False, False],\n        [False, False,  True, False, False, False, False, False, False, False,\n         False, False, False, False, False]])"
     },
     "execution_count": 44,
     "metadata": {},
     "output_type": "execute_result"
    }
   ],
   "source": [
    "word_begins_mask"
   ]
  },
  {
   "cell_type": "code",
   "execution_count": 51,
   "metadata": {},
   "outputs": [],
   "source": [
    "new_mask = torch.full(word_begins_mask.size(), False).bool()\n",
    "new_mask[:,:word_begins_mask.size(1) - 1] = word_begins_mask[:,1:]"
   ]
  },
  {
   "cell_type": "code",
   "execution_count": 53,
   "metadata": {},
   "outputs": [],
   "source": [
    "mask_positions = mask_positions | new_mask"
   ]
  },
  {
   "cell_type": "code",
   "execution_count": 54,
   "metadata": {},
   "outputs": [
    {
     "data": {
      "text/plain": "tensor([[False, False,  True,  True,  True,  True,  True,  True, False, False,\n          True,  True,  True, False, False],\n        [ True, False, False, False, False,  True,  True,  True,  True,  True,\n          True, False, False, False, False],\n        [False,  True,  True, False, False,  True, False,  True, False, False,\n         False, False,  True, False,  True]])"
     },
     "execution_count": 54,
     "metadata": {},
     "output_type": "execute_result"
    }
   ],
   "source": [
    "mask_positions"
   ]
  },
  {
   "cell_type": "code",
   "execution_count": 65,
   "metadata": {},
   "outputs": [],
   "source": [
    "vocab_size = 12008\n",
    "vocab = torch.arange(vocab_size)\n",
    "words_starting_mask = torch.rand(*vocab.size()) < .3\n",
    "\n",
    "sent_batch = torch.randint(vocab.size(0), (128, 128))\n",
    "\n",
    "\n",
    "word_begins_mask = words_starting_mask.expand(sent_batch.size(0), -1).gather(1, sent_batch)\n",
    "\n",
    "def get_masks(sent_batch):\n",
    "    mask_positions = (torch.rand(*sent_batch.size()) < .15)\n",
    "    word_begins_mask = words_starting_mask.expand(sent_batch.size(0), -1).gather(1, sent_batch)\n",
    "    new_mask = torch.full(word_begins_mask.size(), False).bool()\n",
    "    new_mask[:,:word_begins_mask.size(1) - 1] = word_begins_mask[:,1:]\n",
    "    \n",
    "    return mask_positions | new_mask"
   ]
  },
  {
   "cell_type": "code",
   "execution_count": 66,
   "metadata": {},
   "outputs": [
    {
     "name": "stdout",
     "output_type": "stream",
     "text": "174 µs ± 546 ns per loop (mean ± std. dev. of 7 runs, 10000 loops each)\n"
    }
   ],
   "source": [
    "%timeit get_masks(sent_batch)"
   ]
  },
  {
   "cell_type": "markdown",
   "execution_count": null,
   "metadata": {},
   "outputs": [],
   "source": []
  }
 ]
}