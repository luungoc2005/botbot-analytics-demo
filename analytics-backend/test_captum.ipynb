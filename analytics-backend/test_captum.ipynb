{
 "cells": [
  {
   "cell_type": "code",
   "execution_count": 2,
   "metadata": {},
   "outputs": [],
   "source": [
    "from config import DATA_DIR, CACHE_DIR\n",
    "from common import cache, utils, ignore_lists\n",
    "from tasks.common import return_response\n",
    "from tasks.modeling.pytorch_model import LSTMTextClassifier, CNNTextClassifier, DfTrainingDataset\n",
    "\n",
    "from os import listdir, path, makedirs\n",
    "\n",
    "import statistics\n",
    "from scipy import stats\n",
    "import numpy as np\n",
    "from sklearn.preprocessing import LabelEncoder, MultiLabelBinarizer, StandardScaler\n",
    "from sklearn.neural_network import MLPClassifier\n",
    "from sklearn.metrics import recall_score, precision_score, f1_score, accuracy_score\n",
    "\n",
    "import json\n",
    "import joblib\n",
    "\n",
    "import torch"
   ]
  },
  {
   "cell_type": "code",
   "execution_count": 3,
   "metadata": {},
   "outputs": [],
   "source": [
    "from captum.attr import IntegratedGradients\n",
    "from captum.attr import InterpretableEmbeddingBase, TokenReferenceBase\n",
    "from captum.attr import visualization"
   ]
  },
  {
   "cell_type": "code",
   "execution_count": 5,
   "metadata": {},
   "outputs": [
    {
     "name": "stdout",
     "output_type": "stream",
     "text": [
      "405bd27891a2e0d04806a92d996c58d6\n"
     ]
    }
   ],
   "source": [
    "file_path = path.join(DATA_DIR, 'Francis.zip')\n",
    "\n",
    "file_hash = cache.get_file_hash(file_path)\n",
    "\n",
    "print(file_hash)"
   ]
  },
  {
   "cell_type": "code",
   "execution_count": 6,
   "metadata": {},
   "outputs": [],
   "source": [
    "data_cache_path = path.join(CACHE_DIR, f'torchdata_{file_hash}.pt')\n",
    "train_dataset = torch.load(data_cache_path)"
   ]
  },
  {
   "cell_type": "code",
   "execution_count": 7,
   "metadata": {},
   "outputs": [
    {
     "data": {
      "text/plain": [
       "<All keys matched successfully>"
      ]
     },
     "execution_count": 7,
     "metadata": {},
     "output_type": "execute_result"
    }
   ],
   "source": [
    "clf = LSTMTextClassifier({\n",
    "    'embedding_size': train_dataset.embedding_size,\n",
    "    'context_size': train_dataset.context_size,\n",
    "    'num_classes': train_dataset.num_classes\n",
    "}, train_dataset)\n",
    "\n",
    "cache_path = path.join(CACHE_DIR, f'torchmodel_{file_hash}.pt')\n",
    "\n",
    "clf.load_state_dict(torch.load(cache_path))"
   ]
  },
  {
   "cell_type": "code",
   "execution_count": 8,
   "metadata": {},
   "outputs": [],
   "source": [
    "ig = IntegratedGradients(clf)"
   ]
  },
  {
   "cell_type": "code",
   "execution_count": 12,
   "metadata": {},
   "outputs": [
    {
     "name": "stdout",
     "output_type": "stream",
     "text": [
      "can i enjoy cis rates under fibre entertainment bundle?\n"
     ]
    }
   ],
   "source": [
    "test_idx = 10\n",
    "print(train_dataset.raw_examples[test_idx])"
   ]
  },
  {
   "cell_type": "code",
   "execution_count": 41,
   "metadata": {},
   "outputs": [],
   "source": [
    "clf.zero_grad()\n",
    "input_emb = train_dataset.X_train[test_idx].unsqueeze(0)\n",
    "input_context = train_dataset.X_contexts[test_idx].unsqueeze(0)\n",
    "preds_proba = torch.softmax(clf(\n",
    "        input_emb, input_context\n",
    "    ),\n",
    "    dim=-1\n",
    ")\n",
    "preds_proba, preds_idx = torch.max(preds_proba, axis=-1)"
   ]
  },
  {
   "cell_type": "code",
   "execution_count": 42,
   "metadata": {},
   "outputs": [
    {
     "name": "stdout",
     "output_type": "stream",
     "text": [
      "Predicted: CIS-MobilePlan-EligibilityFEB - 0.8132966756820679\n"
     ]
    }
   ],
   "source": [
    "print(f'Predicted: {train_dataset.le.classes_[int(preds_idx.detach().numpy())]} - {float(preds_proba.detach().numpy())}')"
   ]
  },
  {
   "cell_type": "code",
   "execution_count": 57,
   "metadata": {},
   "outputs": [],
   "source": [
    "attr_target = int(preds_idx.detach().item())"
   ]
  },
  {
   "cell_type": "code",
   "execution_count": 44,
   "metadata": {},
   "outputs": [],
   "source": [
    "attributions_ig, delta = ig.attribute(\n",
    "    input_emb, \n",
    "#     train_dataset.X_train[test_idx].unsqueeze(0),\n",
    "    target=attr_target,\n",
    "    additional_forward_args=(input_context,),\n",
    "    n_steps=500, \n",
    "    return_convergence_delta=True\n",
    ")"
   ]
  },
  {
   "cell_type": "code",
   "execution_count": 45,
   "metadata": {},
   "outputs": [
    {
     "data": {
      "text/plain": [
       "tensor([[[-0.0532,  0.0124, -0.0329,  ..., -0.0546,  0.0017, -0.0703],\n",
       "         [-0.0009, -0.0120,  0.0155,  ...,  0.0669,  0.0098,  0.0275],\n",
       "         [-0.1229,  0.0176, -0.0293,  ..., -0.0044, -0.0081, -0.0669],\n",
       "         ...,\n",
       "         [-0.0000,  0.0000, -0.0000,  ..., -0.0000,  0.0000,  0.0000],\n",
       "         [-0.0000,  0.0000, -0.0000,  ..., -0.0000,  0.0000,  0.0000],\n",
       "         [-0.0000, -0.0000, -0.0000,  ..., -0.0000,  0.0000, -0.0000]]])"
      ]
     },
     "execution_count": 45,
     "metadata": {},
     "output_type": "execute_result"
    }
   ],
   "source": [
    "attributions_ig"
   ]
  },
  {
   "cell_type": "code",
   "execution_count": 46,
   "metadata": {},
   "outputs": [
    {
     "data": {
      "text/plain": [
       "tensor([-0.0010])"
      ]
     },
     "execution_count": 46,
     "metadata": {},
     "output_type": "execute_result"
    }
   ],
   "source": [
    "delta"
   ]
  },
  {
   "cell_type": "code",
   "execution_count": 47,
   "metadata": {},
   "outputs": [
    {
     "data": {
      "text/plain": [
       "torch.Size([1, 80, 300])"
      ]
     },
     "execution_count": 47,
     "metadata": {},
     "output_type": "execute_result"
    }
   ],
   "source": [
    "attributions_ig.shape"
   ]
  },
  {
   "cell_type": "code",
   "execution_count": 61,
   "metadata": {},
   "outputs": [
    {
     "data": {
      "text/plain": [
       "tensor([0.1270, 0.1639, 0.4556, 0.3845, 0.6495, 0.8603, 0.2893, 1.0582, 0.3348,\n",
       "        0.1755, -0.0000, -0.0000, -0.0000, 0.0000, 0.0000, 0.0000, 0.0000, 0.0000,\n",
       "        0.0000, 0.0000, 0.0000, 0.0000, 0.0000, 0.0000, 0.0000, 0.0000, 0.0000,\n",
       "        0.0000, -0.0000, -0.0000, -0.0000, -0.0000, -0.0000, -0.0000, -0.0000, 0.0000,\n",
       "        0.0000, 0.0000, 0.0000, 0.0000, -0.0000, -0.0000, -0.0000, 0.0000, 0.0000,\n",
       "        0.0000, 0.0000, 0.0000, 0.0000, 0.0000, 0.0000, 0.0000, 0.0000, 0.0000,\n",
       "        0.0000, 0.0000, 0.0000, 0.0000, 0.0000, 0.0000, 0.0000, 0.0000, 0.0000,\n",
       "        0.0000, 0.0000, 0.0000, 0.0000, 0.0000, 0.0000, 0.0000, 0.0000, 0.0000,\n",
       "        0.0000, 0.0000, 0.0000, 0.0000, 0.0000, 0.0000, 0.0000, -0.0000])"
      ]
     },
     "execution_count": 61,
     "metadata": {},
     "output_type": "execute_result"
    }
   ],
   "source": [
    "torch.max(attributions_ig, axis=-1)[0][0]"
   ]
  },
  {
   "cell_type": "code",
   "execution_count": 59,
   "metadata": {},
   "outputs": [
    {
     "data": {
      "text/plain": [
       "tensor([], size=(0, 5))"
      ]
     },
     "execution_count": 59,
     "metadata": {},
     "output_type": "execute_result"
    }
   ],
   "source": [
    "torch.zeros((0, 5))"
   ]
  },
  {
   "cell_type": "code",
   "execution_count": null,
   "metadata": {},
   "outputs": [],
   "source": []
  }
 ],
 "metadata": {
  "kernelspec": {
   "display_name": "Python 3",
   "language": "python",
   "name": "python3"
  },
  "language_info": {
   "codemirror_mode": {
    "name": "ipython",
    "version": 3
   },
   "file_extension": ".py",
   "mimetype": "text/x-python",
   "name": "python",
   "nbconvert_exporter": "python",
   "pygments_lexer": "ipython3",
   "version": "3.6.9"
  }
 },
 "nbformat": 4,
 "nbformat_minor": 2
}
