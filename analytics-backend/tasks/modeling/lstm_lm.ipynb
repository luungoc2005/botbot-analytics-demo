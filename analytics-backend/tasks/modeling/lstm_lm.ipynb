{
 "cells": [
  {
   "cell_type": "code",
   "execution_count": null,
   "metadata": {},
   "outputs": [],
   "source": [
    "import torch\n",
    "import torch.nn as nn\n",
    "import torch.nn.functional as F\n",
    "import torch.optim as optim\n",
    "\n",
    "from torch.utils.data import DataLoader, Dataset\n",
    "\n",
    "import pytorch_lightning as pl"
   ]
  },
  {
   "cell_type": "code",
   "execution_count": null,
   "metadata": {},
   "outputs": [],
   "source": [
    "DEFAULT_LSTM_CONFIG = {\n",
    "    'vocab_size': 32008,\n",
    "    'embedding_size': 128,\n",
    "    'embedding_factor_size': 300,\n",
    "    'hidden_size': 1024,\n",
    "    'n_layers': 3\n",
    "}\n",
    "\n",
    "DEFAULT_DISCRIMINATOR_CONFIG = {\n",
    "    'encoder_hidden_size': 1024,\n",
    "    'hidden_size': 512\n",
    "}\n",
    "\n",
    "DEFAULT_GENERATOR_CONFIG = {\n",
    "    'encoder_hidden_size': 768,\n",
    "    'hidden_size': 256,\n",
    "    'max_sequence_length': 256\n",
    "}"
   ]
  },
  {
   "cell_type": "code",
   "execution_count": null,
   "metadata": {},
   "outputs": [],
   "source": [
    "import h5py\n",
    "train_dataset_path = 'data/data_train.h5'\n",
    "test_dataset_path = 'data/data_test.h5'"
   ]
  },
  {
   "cell_type": "code",
   "execution_count": null,
   "metadata": {},
   "outputs": [],
   "source": [
    "train_dataset = h5py.File(train_dataset_path, 'r')\n",
    "test_dataset = h5py.File(test_dataset_path, 'r')"
   ]
  },
  {
   "cell_type": "code",
   "execution_count": null,
   "metadata": {},
   "outputs": [],
   "source": [
    "from tasks.modeling.model_lstm import LSTM_LM, LMGeneratorHead, LMDiscriminatorHead\n",
    "\n",
    "class LMAdversarialModel(pl.LightningModule)\n",
    "    "
   ]
  },
  {
   "cell_type": "code",
   "execution_count": null,
   "metadata": {},
   "outputs": [],
   "source": [
    "train_dataset.close()\n",
    "test_dataset.close()"
   ]
  }
 ],
 "metadata": {
  "kernelspec": {
   "display_name": "Python 3",
   "language": "python",
   "name": "python3"
  },
  "language_info": {
   "codemirror_mode": {
    "name": "ipython",
    "version": 3
   },
   "file_extension": ".py",
   "mimetype": "text/x-python",
   "name": "python",
   "nbconvert_exporter": "python",
   "pygments_lexer": "ipython3",
   "version": "3.7.3"
  }
 },
 "nbformat": 4,
 "nbformat_minor": 2
}